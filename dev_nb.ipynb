{
 "cells": [
  {
   "cell_type": "code",
   "execution_count": 3,
   "metadata": {},
   "outputs": [],
   "source": [
    "import os\n",
    "import requests\n",
    "import json\n",
    "from dotenv import load_dotenv\n",
    "import pandas as pd\n",
    "from docx import Document\n",
    "import re\n",
    "from jinja2 import Environment, FileSystemLoader\n",
    "import pypandoc"
   ]
  },
  {
   "cell_type": "code",
   "execution_count": 18,
   "metadata": {},
   "outputs": [],
   "source": [
    "load_dotenv()\n",
    "API_KEY = os.getenv(\"API_KEY\")\n",
    "BASE_URL = os.getenv(\"BASE_URL\")\n",
    "PROTOCOL = 139\n",
    "\n",
    "URL = f\"{BASE_URL}/{PROTOCOL}\""
   ]
  },
  {
   "cell_type": "code",
   "execution_count": 19,
   "metadata": {},
   "outputs": [],
   "source": [
    "headers = {\"Authorization\": f\"Bearer {API_KEY}\"}\n",
    "response = requests.get(URL, headers=headers)"
   ]
  },
  {
   "cell_type": "code",
   "execution_count": null,
   "metadata": {},
   "outputs": [],
   "source": [
    "if response.status_code == 200:\n",
    "    print(\"Data fetched successfully:\")\n",
    "    print(response.json())  # Print the JSON response\n",
    "else:\n",
    "    print(f\"Failed to fetch data: {response.status_code} - {response.text}\")"
   ]
  },
  {
   "cell_type": "code",
   "execution_count": 24,
   "metadata": {},
   "outputs": [],
   "source": [
    "vesgitio_list = response.json()[\"listaVestigio\"]"
   ]
  },
  {
   "cell_type": "code",
   "execution_count": null,
   "metadata": {},
   "outputs": [],
   "source": [
    "with open(\"resp.json\", \"w\") as json_file:\n",
    "    json.dump(response.json(), json_file, indent=4)\n",
    "    print(f\"Data saved\")"
   ]
  },
  {
   "cell_type": "code",
   "execution_count": null,
   "metadata": {},
   "outputs": [],
   "source": [
    "doc = Document()\n",
    "\n",
    "doc.add_heading(f\"Protocolo número: {PROTOCOL}\", level=0)\n",
    "\n",
    "doc.add_heading(\"Vestigios\", level=1)\n",
    "\n",
    "for i, v, in enumerate(vesgitio_list):\n",
    "    doc.add_heading(f\"Vestigio ID: {v[\"id\"]}\", level=2)\n",
    "    doc.add_paragraph(v['resumo'], style=\"ListBullet\")\n",
    "    \n",
    "    doc.add_heading(f\"Tabela de dados {str(i+1)}\", level=3)\n",
    "    \n",
    "    table_data = (v['dadosVestigio'])\n",
    "    table = doc.add_table(rows=len(table_data), cols=2)\n",
    "    \n",
    "    for i, (header, value) in enumerate(table_data.items(), start=0):\n",
    "      \n",
    "      if(value != None):\n",
    "        cell = table.cell(i, 0)\n",
    "        cell.text = str(camel_case_to_capitalized(header))\n",
    "        cell = table.cell(i, 1)\n",
    "        cell.text = str(value)\n",
    "\n",
    "delete_empty_rows(table)"
   ]
  },
  {
   "cell_type": "code",
   "execution_count": 84,
   "metadata": {},
   "outputs": [],
   "source": [
    "doc.save(\"my_document.docx\")"
   ]
  },
  {
   "cell_type": "code",
   "execution_count": 88,
   "metadata": {},
   "outputs": [],
   "source": [
    "df = pd.DataFrame(vesgitio_list)"
   ]
  },
  {
   "cell_type": "code",
   "execution_count": 95,
   "metadata": {},
   "outputs": [],
   "source": [
    "df = pd.json_normalize(response.json()['solicitacaoOcorrencia'])"
   ]
  },
  {
   "cell_type": "code",
   "execution_count": 98,
   "metadata": {},
   "outputs": [],
   "source": [
    "df.to_excel('output.ods', engine='odf')"
   ]
  },
  {
   "cell_type": "code",
   "execution_count": 102,
   "metadata": {},
   "outputs": [],
   "source": [
    "pd.DataFrame(response.json()['solicitacaoOcorrencia'])\n",
    "\n",
    "df['dataInclusao'] = pd.to_datetime(df['dataInclusao'], unit='ms').dt.strftime('%d/%m/%Y %H:%M:%S')\n",
    "df['dataAcionamento'] = pd.to_datetime(df['dataAcionamento'], unit='ms').dt.strftime('%d/%m/%Y %H:%M:%S')\n",
    "df['dataHoraOcorrencia'] = pd.to_datetime(df['dataHoraOcorrencia'], unit='ms').dt.strftime('%d/%m/%Y %H:%M:%S')\n",
    "df['dataHoraAtendimentoPerito'] = pd.to_datetime(df['dataHoraAtendimentoPerito'], unit='ms').dt.strftime('%d/%m/%Y %H:%M:%S')\n",
    "df['dataHoraLiberacaoLocal'] = pd.to_datetime(df['dataHoraLiberacaoLocal'], unit='ms').dt.strftime('%d/%m/%Y %H:%M:%S')"
   ]
  },
  {
   "cell_type": "code",
   "execution_count": 6,
   "metadata": {},
   "outputs": [],
   "source": [
    "try:\n",
    "    load_dotenv()\n",
    "\n",
    "    API_KEY = os.getenv(\"API_KEY\")\n",
    "    BASE_URL = os.getenv(\"BASE_URL\")\n",
    "    PROTOCOL = 139\n",
    "\n",
    "    URL = f\"{BASE_URL}/{PROTOCOL}\"\n",
    "except Exception as e:\n",
    "    logger.error(e)\n",
    "    exit(1)"
   ]
  },
  {
   "cell_type": "code",
   "execution_count": 15,
   "metadata": {},
   "outputs": [],
   "source": [
    "API_KEY = os.getenv(\"API_KEY\")\n",
    "BASE_URL = os.getenv(\"BASE_URL\")\n",
    "PROTOCOL = 139"
   ]
  },
  {
   "cell_type": "code",
   "execution_count": null,
   "metadata": {},
   "outputs": [],
   "source": [
    "try:\n",
    "    headers = {\"Authorization\": f\"Bearer {API_KEY}\"}\n",
    "    response = requests.get(URL, headers=headers)\n",
    "\n",
    "    response.raise_for_status()\n",
    "    if response.status_code == 200:\n",
    "        print(\"Dados recebidos com sucesso.\")\n",
    "    else:\n",
    "        raise (f\"Failed to fetch data: {response.status_code} - {response.text}\")\n",
    "\n",
    "    vesgitio_list = response.json()[\"listaVestigio\"]\n",
    "    solicitacao = response.json()[\"solicitacaoOcorrencia\"]\n",
    "except Exception as e:\n",
    "    print(e)"
   ]
  },
  {
   "cell_type": "code",
   "execution_count": 36,
   "metadata": {},
   "outputs": [],
   "source": []
  },
  {
   "cell_type": "code",
   "execution_count": null,
   "metadata": {},
   "outputs": [],
   "source": [
    "vesgitio_list"
   ]
  },
  {
   "cell_type": "code",
   "execution_count": null,
   "metadata": {},
   "outputs": [],
   "source": [
    "env = Environment(loader=FileSystemLoader('./templates'))  # 'templates' folder contains your .html template\n",
    "template = env.get_template('template.html.j2')\n",
    "\n",
    "rendered_html = template.render(data)\n",
    "output_file = 'output.odt'\n",
    "\n",
    "pypandoc.convert_text(rendered_html, to='odt', format='html', outputfile=output_file)\n",
    "\n",
    "print(f\"Conversion completed. The DOCX file is saved as '{output_file}'.\")"
   ]
  }
 ],
 "metadata": {
  "kernelspec": {
   "display_name": "atvd-02-55fpmeQa-py3.12",
   "language": "python",
   "name": "python3"
  },
  "language_info": {
   "codemirror_mode": {
    "name": "ipython",
    "version": 3
   },
   "file_extension": ".py",
   "mimetype": "text/x-python",
   "name": "python",
   "nbconvert_exporter": "python",
   "pygments_lexer": "ipython3",
   "version": "3.12.7"
  }
 },
 "nbformat": 4,
 "nbformat_minor": 2
}
